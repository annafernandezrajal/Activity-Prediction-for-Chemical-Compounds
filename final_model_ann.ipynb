{
 "cells": [
  {
   "attachments": {},
   "cell_type": "markdown",
   "metadata": {},
   "source": [
    "# FINAL MODEL"
   ]
  },
  {
   "cell_type": "code",
   "execution_count": 1,
   "metadata": {},
   "outputs": [],
   "source": [
    "import pandas as pd\n",
    "import seaborn as sns\n",
    "import numpy as np\n",
    "from sklearn.neural_network import MLPClassifier\n",
    "from sklearn.metrics import roc_auc_score"
   ]
  },
  {
   "attachments": {},
   "cell_type": "markdown",
   "metadata": {},
   "source": [
    "Import the datasets"
   ]
  },
  {
   "cell_type": "code",
   "execution_count": 2,
   "metadata": {},
   "outputs": [],
   "source": [
    "train = pd.read_csv('training_processed.csv')\n",
    "X_train = train.drop(['ACTIVE'], axis=1) \n",
    "y_train = train['ACTIVE']\n",
    "\n",
    "val = pd.read_csv('validation_processed.csv')\n",
    "X_val = val.drop(['ACTIVE'], axis=1) \n",
    "y_val = val['ACTIVE']\n",
    "\n",
    "total = pd.read_csv('total_processed.csv')\n",
    "X_total = total.drop(['ACTIVE'], axis=1) \n",
    "y_total = total['ACTIVE']\n",
    "\n",
    "X_test = pd.read_csv('testing_processed_1.csv') ## TOTAL PROCESSED WITH PCA applied only on training data, then applied on validation data and test data\n",
    "X_test_2 = pd.read_csv('testing_processed_2.csv') ## TOTAL PROCESSED WITH PCA applied on training and validation data, then applied on test data"
   ]
  },
  {
   "attachments": {},
   "cell_type": "markdown",
   "metadata": {},
   "source": [
    "Double-check the parameter settings on the validation set"
   ]
  },
  {
   "cell_type": "code",
   "execution_count": 3,
   "metadata": {},
   "outputs": [
    {
     "name": "stdout",
     "output_type": "stream",
     "text": [
      "ANN Accuracy:  0.9887879175732753\n",
      "ANN AUC:  0.7633064292573168\n"
     ]
    }
   ],
   "source": [
    "ann = MLPClassifier(hidden_layer_sizes=(100,), max_iter=200, alpha=0.0001, activation='relu',solver='adam', random_state=1, learning_rate='constant')\n",
    "ann.fit(X_train, y_train)\n",
    "ann_labels = ann.predict(X_val)# predicted labels\n",
    "ann_score = ann.score(X_val, y_val)\n",
    "ann_pred = ann.predict_proba(X_val)\n",
    "\n",
    "ann_auc = roc_auc_score(y_val, ann_pred[:,1])\n",
    "\n",
    "# print the results\n",
    "print('ANN Accuracy: ', ann_score)\n",
    "print('ANN AUC: ', ann_auc)"
   ]
  },
  {
   "attachments": {},
   "cell_type": "markdown",
   "metadata": {},
   "source": [
    "Train the ANN on the full dataset and predict the test labels"
   ]
  },
  {
   "cell_type": "code",
   "execution_count": 29,
   "metadata": {},
   "outputs": [
    {
     "name": "stdout",
     "output_type": "stream",
     "text": [
      "[0. 0. 0. ... 0. 0. 0.]\n",
      "[0.00498241 0.01477038 0.00574764 ... 0.03734055 0.00514051 0.00293118]\n"
     ]
    }
   ],
   "source": [
    "ann = MLPClassifier(hidden_layer_sizes=(100,), max_iter=200, alpha=0.0001, activation='relu',solver='adam', random_state=1, learning_rate='constant')\n",
    "ann.fit(X_total, y_total)\n",
    "ann_labels = ann.predict(X_test)# predicted labels\n",
    "ann_pred = ann.predict_proba(X_test)\n",
    "ann_pred = ann_pred[:,1] # take only the active class\n",
    "\n",
    "print(ann_labels)\n",
    "print(ann_pred)\n"
   ]
  },
  {
   "cell_type": "code",
   "execution_count": 30,
   "metadata": {},
   "outputs": [
    {
     "name": "stdout",
     "output_type": "stream",
     "text": [
      "[0. 0. 0. ... 0. 0. 0.]\n",
      "[0.00708067 0.00205526 0.00178856 ... 0.01157009 0.05702776 0.01006459]\n"
     ]
    }
   ],
   "source": [
    "ann = MLPClassifier(hidden_layer_sizes=(100,), max_iter=200, alpha=0.0001, activation='relu',solver='adam', random_state=1, learning_rate='constant')\n",
    "ann.fit(X_total, y_total)\n",
    "ann_labels_2 = ann.predict(X_test_2)# predicted labels\n",
    "ann_pred_2 = ann.predict_proba(X_test_2)\n",
    "ann_pred_2 = ann_pred_2[:,1] # take only the active class\n",
    "\n",
    "\n",
    "print(ann_labels_2)\n",
    "print(ann_pred_2)"
   ]
  },
  {
   "cell_type": "code",
   "execution_count": 31,
   "metadata": {},
   "outputs": [
    {
     "name": "stdout",
     "output_type": "stream",
     "text": [
      "[0.77       0.00498241 0.01477038 ... 0.03734055 0.00514051 0.00293118]\n"
     ]
    }
   ],
   "source": [
    "# add first row to array\n",
    "ann_pred = np.insert(ann_pred, 0, 0.77) # 0.77 is the estimated auc\n",
    "ann_pred_2 = np.insert(ann_pred_2, 0, 0.77) # 0.77 is the estimated auc\n",
    "print(ann_pred)\n",
    "\n",
    "np.savetxt('6.txt', ann_pred)\n",
    "np.savetxt('6(with pca fitted to training and validation).txt', ann_pred_2)"
   ]
  },
  {
   "cell_type": "code",
   "execution_count": 32,
   "metadata": {},
   "outputs": [
    {
     "name": "stdout",
     "output_type": "stream",
     "text": [
      "True\n",
      "True\n"
     ]
    }
   ],
   "source": [
    "predictions_df = pd.read_csv(\"6.txt\", header=None)\n",
    "print(predictions_df.shape == (52087, 1))\n",
    "print(np.all((predictions_df.values >= 0) & (predictions_df.values <= 1)))"
   ]
  },
  {
   "cell_type": "code",
   "execution_count": 33,
   "metadata": {},
   "outputs": [
    {
     "name": "stdout",
     "output_type": "stream",
     "text": [
      "True\n",
      "True\n"
     ]
    }
   ],
   "source": [
    "predictions_df = pd.read_csv(\"6(with pca fitted to training and validation).txt\", header=None)\n",
    "print(predictions_df.shape == (52087, 1))\n",
    "print(np.all((predictions_df.values >= 0) & (predictions_df.values <= 1)))"
   ]
  }
 ],
 "metadata": {
  "kernelspec": {
   "display_name": "venv",
   "language": "python",
   "name": "python3"
  },
  "language_info": {
   "codemirror_mode": {
    "name": "ipython",
    "version": 3
   },
   "file_extension": ".py",
   "mimetype": "text/x-python",
   "name": "python",
   "nbconvert_exporter": "python",
   "pygments_lexer": "ipython3",
   "version": "3.7.13"
  },
  "orig_nbformat": 4,
  "vscode": {
   "interpreter": {
    "hash": "bdc2af3c43840d04af39a1337f3a7bc566d2f4149c07c8d26d0baeef19674ea4"
   }
  }
 },
 "nbformat": 4,
 "nbformat_minor": 2
}
