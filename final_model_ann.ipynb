{
 "cells": [
  {
   "attachments": {},
   "cell_type": "markdown",
   "metadata": {},
   "source": [
    "# FINAL MODEL"
   ]
  },
  {
   "cell_type": "code",
   "execution_count": 1,
   "metadata": {},
   "outputs": [],
   "source": [
    "import pandas as pd\n",
    "import seaborn as sns\n",
    "import numpy as np\n",
    "from sklearn.neural_network import MLPClassifier\n",
    "from sklearn.metrics import roc_auc_score"
   ]
  },
  {
   "attachments": {},
   "cell_type": "markdown",
   "metadata": {},
   "source": [
    "Import the datasets"
   ]
  },
  {
   "cell_type": "code",
   "execution_count": 2,
   "metadata": {},
   "outputs": [],
   "source": [
    "train = pd.read_csv('training_processed.csv')\n",
    "X_train = train.drop(['ACTIVE'], axis=1) \n",
    "y_train = train['ACTIVE']\n",
    "\n",
    "val = pd.read_csv('validation_processed.csv')\n",
    "X_val = val.drop(['ACTIVE'], axis=1) \n",
    "y_val = val['ACTIVE']\n",
    "\n",
    "total = pd.read_csv('total_processed.csv')\n",
    "X_total = total.drop(['ACTIVE'], axis=1) \n",
    "y_total = total['ACTIVE']\n",
    "\n",
    "X_test = pd.read_csv('test_smiles.csv')"
   ]
  },
  {
   "attachments": {},
   "cell_type": "markdown",
   "metadata": {},
   "source": [
    "Double-check the parameter settings on the validation set"
   ]
  },
  {
   "cell_type": "code",
   "execution_count": 3,
   "metadata": {},
   "outputs": [],
   "source": [
    "ann = MLPClassifier(hidden_layer_sizes=(150,150,150), max_iter=100, alpha=0.001,activation='relu',solver='adam',random_state=1,learning_rate='adaptive')\n",
    "ann.fit(X_train, y_train)\n",
    "ann_labels = ann.predict(X_val)# predicted labels\n",
    "ann_score = ann.score(X_val, y_val)\n",
    "ann_pred = ann.predict_proba(X_val)\n",
    "\n",
    "ann_auc = roc_auc_score(y_val, ann_pred[:,1])\n",
    "\n",
    "# print the results\n",
    "print('ANN Accuracy: ', ann_score)\n",
    "print('ANN AUC: ', ann_auc)"
   ]
  },
  {
   "attachments": {},
   "cell_type": "markdown",
   "metadata": {},
   "source": [
    "Train the ANN on the full dataset and predict the test labels"
   ]
  },
  {
   "cell_type": "code",
   "execution_count": null,
   "metadata": {},
   "outputs": [],
   "source": [
    "ann = MLPClassifier(hidden_layer_sizes=(150,150,150), max_iter=100, alpha=0.001,activation='relu',solver='adam',random_state=1,learning_rate='adaptive')\n",
    "ann.fit(X_total, y_total)\n",
    "ann_labels = ann.predict(X_test)# predicted labels\n",
    "\n",
    "print(ann_labels)"
   ]
  }
 ],
 "metadata": {
  "kernelspec": {
   "display_name": "sklearn-env",
   "language": "python",
   "name": "python3"
  },
  "language_info": {
   "codemirror_mode": {
    "name": "ipython",
    "version": 3
   },
   "file_extension": ".py",
   "mimetype": "text/x-python",
   "name": "python",
   "nbconvert_exporter": "python",
   "pygments_lexer": "ipython3",
   "version": "3.10.6"
  },
  "orig_nbformat": 4,
  "vscode": {
   "interpreter": {
    "hash": "34e7f5b862476ca5b132d6fa3a551e06a58745cd7626854c77bc546bf08a4906"
   }
  }
 },
 "nbformat": 4,
 "nbformat_minor": 2
}
