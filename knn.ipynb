{
 "cells": [
  {
   "attachments": {},
   "cell_type": "markdown",
   "metadata": {},
   "source": [
    "# K-NEAREST NEIGHBORS"
   ]
  },
  {
   "cell_type": "code",
   "execution_count": null,
   "metadata": {},
   "outputs": [],
   "source": [
    "import pandas as pd\n",
    "import seaborn as sns\n",
    "import numpy as np\n",
    "from sklearn.metrics import roc_auc_score\n",
    "from sklearn.neighbors import KNeighborsClassifier\n",
    "from sklearn.model_selection import KFold\n",
    "from sklearn.model_selection import GridSearchCV"
   ]
  },
  {
   "cell_type": "code",
   "execution_count": null,
   "metadata": {},
   "outputs": [],
   "source": [
    "data_train = pd.read_csv('training_processed.csv')\n",
    "data_valid = pd.read_csv('validation_processed.csv')\n",
    "\n",
    "labels_train = data_train['ACTIVE']# ground truth labels\n",
    "features_train = data_train.drop(['ACTIVE'], axis=1) \n",
    "labels_valid = data_valid['ACTIVE']# ground truth labels\n",
    "features_valid = data_valid.drop(['ACTIVE'], axis=1)"
   ]
  },
  {
   "cell_type": "code",
   "execution_count": null,
   "metadata": {},
   "outputs": [],
   "source": [
    "knn = KNeighborsClassifier(n_neighbors=7)\n",
    "knn.fit(features_train, labels_train)\n",
    "knn_labels = knn.predict(features_valid)# predicted labels\n",
    "knn_score = knn.score(features_valid, labels_valid)\n",
    "knn_pred = knn.predict_proba(features_valid)\n",
    "\n",
    "knn_auc = roc_auc_score(labels_valid, knn_pred[:,1])\n",
    "\n",
    "# print the results\n",
    "print('KNN Accuracy: ', knn_score)\n",
    "print('KNN AUC: ', knn_auc)"
   ]
  }
 ],
 "metadata": {
  "kernelspec": {
   "display_name": "Python 3",
   "language": "python",
   "name": "python3"
  },
  "language_info": {
   "name": "python",
   "version": "3.10.5 (tags/v3.10.5:f377153, Jun  6 2022, 16:14:13) [MSC v.1929 64 bit (AMD64)]"
  },
  "orig_nbformat": 4,
  "vscode": {
   "interpreter": {
    "hash": "369f2c481f4da34e4445cda3fffd2e751bd1c4d706f27375911949ba6bb62e1c"
   }
  }
 },
 "nbformat": 4,
 "nbformat_minor": 2
}
