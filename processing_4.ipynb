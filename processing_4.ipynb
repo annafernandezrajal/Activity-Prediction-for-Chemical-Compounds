{
 "cells": [
  {
   "cell_type": "code",
   "execution_count": 3,
   "metadata": {},
   "outputs": [],
   "source": [
    "from rdkit import Chem\n",
    "from rdkit.Chem import AllChem\n",
    "import rdkit.Chem.rdMolDescriptors as d\n",
    "import rdkit.Chem.Fragments as f\n",
    "import rdkit.Chem.Lipinski as l\n",
    "import numpy as np\n",
    "import pandas as pd\n",
    "import matplotlib.pyplot as plt\n",
    "import seaborn as sns"
   ]
  },
  {
   "cell_type": "code",
   "execution_count": 50,
   "metadata": {},
   "outputs": [
    {
     "data": {
      "text/plain": [
       "array([0, 0, 0, 1, 0, 0, 0, 0, 0, 0, 0, 0, 1, 0, 0, 0, 0, 1, 0, 0, 0, 0,\n",
       "       0, 0, 0, 0, 0, 0, 0, 0, 0, 0, 0, 0, 0, 0, 0, 0, 0, 0, 0, 0, 0, 0,\n",
       "       0, 0, 0, 0, 0, 0, 0, 0, 0, 1, 0, 1, 0, 0, 1, 0, 0, 0, 0, 0, 0, 0,\n",
       "       0, 0, 0, 0, 0, 0, 0, 0, 0, 0, 1, 0, 0, 0, 0, 0, 0, 0, 0, 0, 0, 0,\n",
       "       0, 0, 0, 0, 0, 0, 0, 0, 0, 0, 0, 0, 0, 0, 0, 0, 0, 0, 0, 0, 0, 1,\n",
       "       0, 1, 0, 0, 0, 0, 0, 0, 0, 0, 0, 0, 1, 0])"
      ]
     },
     "execution_count": 50,
     "metadata": {},
     "output_type": "execute_result"
    }
   ],
   "source": [
    "m = Chem.MolFromSmiles('Cc1ccccc1')\n",
    "m.GetNumAtoms()\n",
    "# rdMolDescriptors\n",
    "d.CalcExactMolWt(m)\n",
    "# Fragments\n",
    "f.fr_Al_COO(m)\n",
    "# Lipinski \n",
    "l.HeavyAtomCount(m)\n",
    "# Fingerprints\n",
    "fp = AllChem.GetMorganFingerprintAsBitVect(m,2,nBits=124)\n",
    "np.array(fp)"
   ]
  },
  {
   "cell_type": "code",
   "execution_count": 58,
   "metadata": {},
   "outputs": [
    {
     "data": {
      "text/html": [
       "<div>\n",
       "<style scoped>\n",
       "    .dataframe tbody tr th:only-of-type {\n",
       "        vertical-align: middle;\n",
       "    }\n",
       "\n",
       "    .dataframe tbody tr th {\n",
       "        vertical-align: top;\n",
       "    }\n",
       "\n",
       "    .dataframe thead th {\n",
       "        text-align: right;\n",
       "    }\n",
       "</style>\n",
       "<table border=\"1\" class=\"dataframe\">\n",
       "  <thead>\n",
       "    <tr style=\"text-align: right;\">\n",
       "      <th></th>\n",
       "      <th>INDEX</th>\n",
       "      <th>SMILES</th>\n",
       "      <th>ACTIVE</th>\n",
       "    </tr>\n",
       "  </thead>\n",
       "  <tbody>\n",
       "    <tr>\n",
       "      <th>0</th>\n",
       "      <td>1</td>\n",
       "      <td>CC(C)N1CC(=O)C(c2nc3ccccc3[nH]2)=C1N</td>\n",
       "      <td>0.0</td>\n",
       "    </tr>\n",
       "    <tr>\n",
       "      <th>1</th>\n",
       "      <td>2</td>\n",
       "      <td>COc1ccc(-c2ccc3c(N)c(C(=O)c4ccc(OC)c(OC)c4)sc3...</td>\n",
       "      <td>0.0</td>\n",
       "    </tr>\n",
       "    <tr>\n",
       "      <th>2</th>\n",
       "      <td>3</td>\n",
       "      <td>CCc1ccc(C(=O)COC(=O)CCc2nc(=O)c3ccccc3[nH]2)cc1</td>\n",
       "      <td>0.0</td>\n",
       "    </tr>\n",
       "    <tr>\n",
       "      <th>3</th>\n",
       "      <td>4</td>\n",
       "      <td>O=C(CN1CCOCC1)Nc1ccc(S(=O)(=O)N2CCCCCC2)cc1</td>\n",
       "      <td>0.0</td>\n",
       "    </tr>\n",
       "    <tr>\n",
       "      <th>4</th>\n",
       "      <td>5</td>\n",
       "      <td>C=CCC(Nc1ccccc1)c1ccc(OC)c(OC)c1</td>\n",
       "      <td>0.0</td>\n",
       "    </tr>\n",
       "  </tbody>\n",
       "</table>\n",
       "</div>"
      ],
      "text/plain": [
       "   INDEX                                             SMILES  ACTIVE\n",
       "0      1               CC(C)N1CC(=O)C(c2nc3ccccc3[nH]2)=C1N     0.0\n",
       "1      2  COc1ccc(-c2ccc3c(N)c(C(=O)c4ccc(OC)c(OC)c4)sc3...     0.0\n",
       "2      3    CCc1ccc(C(=O)COC(=O)CCc2nc(=O)c3ccccc3[nH]2)cc1     0.0\n",
       "3      4        O=C(CN1CCOCC1)Nc1ccc(S(=O)(=O)N2CCCCCC2)cc1     0.0\n",
       "4      5                   C=CCC(Nc1ccccc1)c1ccc(OC)c(OC)c1     0.0"
      ]
     },
     "execution_count": 58,
     "metadata": {},
     "output_type": "execute_result"
    }
   ],
   "source": [
    "data = pd.read_csv('training_smiles.csv')\n",
    "data.head()"
   ]
  },
  {
   "cell_type": "code",
   "execution_count": 59,
   "metadata": {},
   "outputs": [
    {
     "name": "stderr",
     "output_type": "stream",
     "text": [
      "RDKit WARNING: [13:32:08] WARNING: not removing hydrogen atom without neighbors\n",
      "[13:32:08] WARNING: not removing hydrogen atom without neighbors\n"
     ]
    }
   ],
   "source": [
    "df = data.copy()\n",
    "df['mol'] = df['SMILES'].apply(Chem.MolFromSmiles)\n",
    "# df['molwt'] = df['mol'].apply(d.CalcExactMolWt)\n",
    "# df['fr_Al_COO'] = df['mol'].apply(f.fr_Al_COO)\n",
    "# df['HeavyAtomCount'] = df['mol'].apply(l.HeavyAtomCount)\n",
    "# df['fp'] = df['mol'].apply(lambda x: AllChem.GetMorganFingerprintAsBitVect(x,2,nBits=124))"
   ]
  },
  {
   "cell_type": "markdown",
   "metadata": {},
   "source": [
    "### FEATURES WITHIN EACH ATOM\n",
    "https://bmcbioinformatics.biomedcentral.com/articles/10.1186/s12859-018-2523-5/tables/1"
   ]
  },
  {
   "cell_type": "code",
   "execution_count": null,
   "metadata": {},
   "outputs": [],
   "source": [
    "# df['most_common_atom'] = df['mol'].apply(lambda x: x.Chem.GetAtomWithIdx(x.GetMostCommonAtomIdx()).GetSymbol())\n",
    "df['number_atoms'] = df['mol'].apply(Chem.GetNumAtoms)\n",
    "df['number_hydrogen'] = df['mol'].GetNumHeavyAtoms()\n",
    "df['unsaturation'] = df['mol'].GetNumHeteroatoms()\n",
    "df['formal_charge'] = df['mol'].GetFormalCharge()\n",
    "df['total_valence'] = df['mol'].GetTotalValence()\n",
    "df['ring'] = df['mol'].IsInRing()\n",
    "df['aromatic_atoms'] = df['mol'].GetAromaticAtoms()\n",
    "df['chirality_atoms'] = df['mol'].GetChiralAtoms()\n",
    "df['hybridization_atoms'] = df['mol'].GetHybridizationAtoms()\n",
    "\n",
    "df.to_csv('training_processed_2.csv', index=False)"
   ]
  },
  {
   "cell_type": "markdown",
   "metadata": {},
   "source": [
    "### FEATURES WITHIN EACH SMILE\n",
    "\n",
    "https://aip.scitation.org/doi/pdf/10.1063/1.5062773 --> 11 features extracted out of the number of elements of a certain type in the bond"
   ]
  },
  {
   "cell_type": "code",
   "execution_count": 53,
   "metadata": {},
   "outputs": [],
   "source": [
    "df['smiles_length'] = df['SMILES'].apply(len)\n",
    "df['number_atoms'] = df['mol'].apply(lambda x: x.GetNumAtoms()) # number of atoms in the molecule\n",
    "df['number_bonds'] = df['mol'].apply(lambda x: x.GetNumBonds())\n",
    "df['number_carbon_atoms'] = df['mol'].apply(lambda x: len([atom for atom in x.GetAtoms() if atom.GetAtomicNum() == 6]))\n",
    "df['number_nitrogen_atoms'] = df['mol'].apply(lambda x: len([atom for atom in x.GetAtoms() if atom.GetAtomicNum() == 7]))\n",
    "df['number_potasium_atoms'] = df['mol'].apply(lambda x: len([atom for atom in x.GetAtoms() if atom.GetAtomicNum() == 19]))\n",
    "df['number_sulfur_atoms'] = df['mol'].apply(lambda x: len([atom for atom in x.GetAtoms() if atom.GetAtomicNum() == 16]))\n",
    "df['number_clorine_atoms'] = df['mol'].apply(lambda x: len([atom for atom in x.GetAtoms() if atom.GetAtomicNum() == 17]))\n",
    "df['number_bromine_atoms'] = df['mol'].apply(lambda x: len([atom for atom in x.GetAtoms() if atom.GetAtomicNum() == 35]))\n",
    "df['number_iodine_atoms'] = df['mol'].apply(lambda x: len([atom for atom in x.GetAtoms() if atom.GetAtomicNum() == 53]))\n",
    "df['number_oxygen_atoms'] = df['mol'].apply(lambda x: len([atom for atom in x.GetAtoms() if atom.GetAtomicNum() == 8]))\n",
    "\n",
    "# --- not included in paper\n",
    "df['number_hydrogen_atoms'] = df['mol'].apply(lambda x: len([atom for atom in x.GetAtoms() if atom.GetAtomicNum() == 1]))\n",
    "df['number_fluorine_atoms'] = df['mol'].apply(lambda x: len([atom for atom in x.GetAtoms() if atom.GetAtomicNum() == 9]))\n",
    "\n",
    "\n",
    "df.to_csv('training_preprocessed.csv', index=False)"
   ]
  },
  {
   "cell_type": "code",
   "execution_count": 6,
   "metadata": {},
   "outputs": [],
   "source": [
    "# Add functions from previous assignments\n",
    "import functions as f\n",
    "from sklearn.preprocessing import StandardScaler\n",
    "from sklearn.decomposition import PCA\n",
    "from sklearn import preprocessing\n",
    "\n",
    "# get the features and labels\n",
    "data = pd.read_csv('training_preprocessed.csv')\n",
    "features = data.drop(['SMILES', 'mol', 'ACTIVE', 'INDEX'], axis=1)\n",
    "labels = data['ACTIVE']\n",
    "\n",
    "features_processed = features.loc[:, (features != 0).any(axis=0)] # drop columns with all zeros\n",
    "features_processed = features_processed.dropna(axis=1, how='all') # drop columns with all Nan\n",
    "\n",
    "mm = preprocessing.MinMaxScaler()\n",
    "features_processed = pd.DataFrame(mm.fit_transform(features_processed))\n",
    "\n",
    "# Apply PCA after scaling the data\n",
    "features_processed = StandardScaler().fit_transform(features_processed)\n",
    "pca = PCA(n_components=0.95) #scikit-learn choose the minimum number of principal components such that 95% of the variance is retained\n",
    "features_pca = pca.fit_transform(features_processed)\n",
    "\n",
    "\n",
    "# add into csv features and labels\n",
    "training_processed = pd.DataFrame(features_pca)\n",
    "# add title to all features\n",
    "training_processed.columns = ['feature_' + str(i) for i in range(1, len(training_processed.columns)+1)]\n",
    "training_processed['ACTIVE'] = labels\n",
    "training_processed.to_csv('training_processed.csv', index=False)"
   ]
  },
  {
   "cell_type": "code",
   "execution_count": 7,
   "metadata": {},
   "outputs": [
    {
     "data": {
      "text/plain": [
       "0.9892166901318316"
      ]
     },
     "execution_count": 7,
     "metadata": {},
     "output_type": "execute_result"
    }
   ],
   "source": [
    "from sklearn.linear_model import LogisticRegression\n",
    "from sklearn.model_selection import train_test_split\n",
    "\n",
    "logisticRegr = LogisticRegression(solver = 'lbfgs')\n",
    "\n",
    "# split training data into training and validation \n",
    "data_train, data_valid, labels_train, labels_valid = train_test_split(features_pca, labels, test_size=0.2, random_state=30) # change random_state to get different results\n",
    "\n",
    "logisticRegr.fit(data_train, labels_train)\n",
    "\n",
    "logisticRegr.predict(data_valid)\n",
    "logisticRegr.score(data_valid, labels_valid)"
   ]
  }
 ],
 "metadata": {
  "kernelspec": {
   "display_name": "Python 3.7.13 ('venv')",
   "language": "python",
   "name": "python3"
  },
  "language_info": {
   "codemirror_mode": {
    "name": "ipython",
    "version": 3
   },
   "file_extension": ".py",
   "mimetype": "text/x-python",
   "name": "python",
   "nbconvert_exporter": "python",
   "pygments_lexer": "ipython3",
   "version": "3.7.13"
  },
  "orig_nbformat": 4,
  "vscode": {
   "interpreter": {
    "hash": "bdc2af3c43840d04af39a1337f3a7bc566d2f4149c07c8d26d0baeef19674ea4"
   }
  }
 },
 "nbformat": 4,
 "nbformat_minor": 2
}
