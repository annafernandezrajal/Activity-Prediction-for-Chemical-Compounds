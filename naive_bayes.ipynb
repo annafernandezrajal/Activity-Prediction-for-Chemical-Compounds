{
 "cells": [
  {
   "attachments": {},
   "cell_type": "markdown",
   "metadata": {},
   "source": [
    "# NAIVE BAYES"
   ]
  },
  {
   "cell_type": "code",
   "execution_count": null,
   "metadata": {},
   "outputs": [],
   "source": [
    "import pandas as pd\n",
    "import seaborn as sns\n",
    "import numpy as np\n",
    "from sklearn.metrics import roc_auc_score\n",
    "from sklearn.naive_bayes import GaussianNB\n",
    "from sklearn.model_selection import KFold\n",
    "from sklearn.model_selection import GridSearchCV"
   ]
  },
  {
   "cell_type": "code",
   "execution_count": null,
   "metadata": {},
   "outputs": [],
   "source": [
    "data_train = pd.read_csv('training_processed.csv')\n",
    "data_valid = pd.read_csv('validation_processed.csv')\n",
    "\n",
    "labels_train = data_train['ACTIVE']# ground truth labels\n",
    "features_train = data_train.drop(['ACTIVE'], axis=1) \n",
    "labels_valid = data_valid['ACTIVE']# ground truth labels\n",
    "features_valid = data_valid.drop(['ACTIVE'], axis=1)"
   ]
  },
  {
   "cell_type": "code",
   "execution_count": null,
   "metadata": {},
   "outputs": [],
   "source": [
    "naive_bayes = GaussianNB()\n",
    "\n",
    "naive_bayes_parameters = {'var_smoothing': [1e-9, 1e-8, 1e-7, 1e-6, 1e-5, 1e-4, 1e-3, 1e-2, 1e-1, 1, 10, 100, 1000]}\n",
    "cross_val = KFold(n_splits=5)\n",
    "naive_bayes_grid_search = GridSearchCV(estimator=naive_bayes, param_grid=naive_bayes_parameters, cv=cross_val, scoring=['roc_auc','accuracy'], refit='roc_auc')\n",
    "naive_bayes_grid_result = naive_bayes_grid_search.fit(features_train, labels_train)\n",
    "# summarize results\n",
    "print(\"Best: %f using %s\" % (naive_bayes_grid_result.best_score_, naive_bayes_grid_result.best_params_))\n",
    "print(\"Average AUC for Naive Bayes: \", np.mean(naive_bayes_grid_result.cv_results_['mean_test_roc_auc']))\n",
    "print(\"Average Accuracy for Naive Bayes: \", np.mean(naive_bayes_grid_result.cv_results_['mean_test_accuracy']))"
   ]
  }
 ],
 "metadata": {
  "kernelspec": {
   "display_name": "sklearn-env",
   "language": "python",
   "name": "python3"
  },
  "language_info": {
   "name": "python",
   "version": "3.10.6 | packaged by conda-forge | (main, Oct  7 2022, 20:14:50) [MSC v.1916 64 bit (AMD64)]"
  },
  "orig_nbformat": 4,
  "vscode": {
   "interpreter": {
    "hash": "34e7f5b862476ca5b132d6fa3a551e06a58745cd7626854c77bc546bf08a4906"
   }
  }
 },
 "nbformat": 4,
 "nbformat_minor": 2
}
