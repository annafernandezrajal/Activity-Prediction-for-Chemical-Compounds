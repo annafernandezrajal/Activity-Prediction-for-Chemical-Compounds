{
 "cells": [
  {
   "attachments": {},
   "cell_type": "markdown",
   "metadata": {},
   "source": [
    "# ARTIFICIAL NEURAL NETWORK"
   ]
  },
  {
   "cell_type": "code",
   "execution_count": null,
   "metadata": {},
   "outputs": [],
   "source": [
    "import pandas as pd\n",
    "import seaborn as sns\n",
    "import numpy as np\n",
    "from sklearn.metrics import roc_auc_score\n",
    "from sklearn.neural_network import MLPClassifier\n",
    "from sklearn.model_selection import KFold\n",
    "from sklearn.model_selection import GridSearchCV"
   ]
  },
  {
   "cell_type": "code",
   "execution_count": null,
   "metadata": {},
   "outputs": [],
   "source": [
    "data_train = pd.read_csv('training_processed.csv')\n",
    "data_valid = pd.read_csv('validation_processed.csv')\n",
    "\n",
    "labels_train = data_train['ACTIVE']# ground truth labels\n",
    "features_train = data_train.drop(['ACTIVE'], axis=1) \n",
    "labels_valid = data_valid['ACTIVE']# ground truth labels\n",
    "features_valid = data_valid.drop(['ACTIVE'], axis=1)"
   ]
  },
  {
   "cell_type": "code",
   "execution_count": null,
   "metadata": {},
   "outputs": [],
   "source": [
    "ann = MLPClassifier()\n",
    "\n",
    "ann_parameters = {'hidden_layer_sizes':(100, 100, 100), 'solver': ['lbfgs', 'sgd', 'adam'], 'alpha': ['0.00001', '0.0001', '0.001', '0.01', '0,1']}\n",
    "cross_val = KFold(n_splits=5)\n",
    "ann_grid_search = GridSearchCV(estimator=ann, param_grid=ann_parameters, cv=cross_val, scoring=['roc_auc','accuracy'], refit='roc_auc')\n",
    "ann_grid_result = ann_grid_search.fit(features_train, labels_train)\n",
    "# summarize results\n",
    "\n",
    "print(\"Best: %f using %s\" % (ann_grid_result.best_score_, ann_grid_result.best_params_))\n",
    "print(\"Average AUC for Decision Tree: \", np.mean(ann_grid_result.cv_results_['mean_test_roc_auc']))\n",
    "print(\"Average Accuracy for Decision Tree: \", np.mean(ann_grid_result.cv_results_['mean_test_accuracy']))"
   ]
  },
  {
   "cell_type": "code",
   "execution_count": null,
   "metadata": {},
   "outputs": [],
   "source": [
    "results = pd.DataFrame(ann_grid_result.cv_results_)"
   ]
  },
  {
   "cell_type": "code",
   "execution_count": null,
   "metadata": {},
   "outputs": [],
   "source": [
    "plot = sns.barplot(data=results, x='param_alpha', y='mean_test_roc_auc', hue='param_solver', palette='Pastel2_r')\n",
    "plot.set(ylim=(0.6, 1))\n",
    "plot.set(title='ROC_AUC of an Artificial Neural Network with K-Fold-Cross Validation\\n')"
   ]
  },
  {
   "cell_type": "code",
   "execution_count": null,
   "metadata": {},
   "outputs": [],
   "source": [
    "plot = sns.barplot(data=results, x='param_alpha', y='mean_test_accuracy', hue='param_solver', palette='Pastel2_r')\n",
    "plot.set(ylim=(0.6, 1))\n",
    "plot.set(title='Accuracy of an Artificial Neural Network with K-Fold-Cross Validation\\n')"
   ]
  }
 ],
 "metadata": {
  "kernelspec": {
   "display_name": "Python 3",
   "language": "python",
   "name": "python3"
  },
  "language_info": {
   "name": "python",
   "version": "3.10.5 (tags/v3.10.5:f377153, Jun  6 2022, 16:14:13) [MSC v.1929 64 bit (AMD64)]"
  },
  "orig_nbformat": 4,
  "vscode": {
   "interpreter": {
    "hash": "369f2c481f4da34e4445cda3fffd2e751bd1c4d706f27375911949ba6bb62e1c"
   }
  }
 },
 "nbformat": 4,
 "nbformat_minor": 2
}
