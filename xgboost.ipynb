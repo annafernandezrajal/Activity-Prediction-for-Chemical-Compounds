{
 "cells": [
  {
   "attachments": {},
   "cell_type": "markdown",
   "metadata": {},
   "source": [
    "# XGBOOST"
   ]
  },
  {
   "cell_type": "code",
   "execution_count": null,
   "metadata": {},
   "outputs": [],
   "source": [
    "import pandas as pd\n",
    "import seaborn as sns\n",
    "import numpy as np\n",
    "from sklearn.metrics import roc_auc_score\n",
    "from xgboost import XGBClassifier\n",
    "from sklearn.model_selection import KFold\n",
    "from sklearn.model_selection import GridSearchCV"
   ]
  },
  {
   "cell_type": "code",
   "execution_count": null,
   "metadata": {},
   "outputs": [],
   "source": [
    "data_train = pd.read_csv('training_processed.csv')\n",
    "data_valid = pd.read_csv('validation_processed.csv')\n",
    "\n",
    "labels_train = data_train['ACTIVE']# ground truth labels\n",
    "features_train = data_train.drop(['ACTIVE'], axis=1) \n",
    "labels_valid = data_valid['ACTIVE']# ground truth labels\n",
    "features_valid = data_valid.drop(['ACTIVE'], axis=1)"
   ]
  },
  {
   "cell_type": "code",
   "execution_count": null,
   "metadata": {},
   "outputs": [],
   "source": [
    "xgb = XGBClassifier()\n",
    "xgb_parameters = {'learning_rate': [0.001, 0.01, 0.1, 0.2, 0.3], 'max_depth': [3, 4, 5, 6, 7, 8, 9, 10], 'n_estimators': [100, 200, 300, 400, 500]}\n",
    "cross_val = KFold(n_splits=5)\n",
    "xgb_grid_search = GridSearchCV(estimator=xgb, param_grid=xgb_parameters, cv=cross_val, scoring=['roc_auc','accuracy'], refit='roc_auc')\n",
    "xgb_grid_result = xgb_grid_search.fit(features_train, labels_train)\n",
    "# summarize results\n",
    "print(\"Best: %f using %s\" % (xgb_grid_result.best_score_, xgb_grid_result.best_params_))\n",
    "print(\"Average AUC for XGBoost: \", np.mean(xgb_grid_result.cv_results_['mean_test_roc_auc']))\n",
    "print(\"Average Accuracy for XGBoost: \", np.mean(xgb_grid_result.cv_results_['mean_test_accuracy']))"
   ]
  },
  {
   "cell_type": "code",
   "execution_count": null,
   "metadata": {},
   "outputs": [],
   "source": [
    "results = pd.DataFrame(xgb_grid_result.cv_results_)"
   ]
  },
  {
   "cell_type": "code",
   "execution_count": null,
   "metadata": {},
   "outputs": [],
   "source": [
    "plot = sns.barplot(data=results, x='param_max_depth', y='mean_test_roc_auc', hue='param_learning_rate', palette='Pastel2_r')\n",
    "plot.set(ylim=(0.6, 1))\n",
    "plot.set(title='ROC_AUC of XGBoost with K-Fold-Cross Validation\\n')"
   ]
  },
  {
   "cell_type": "code",
   "execution_count": null,
   "metadata": {},
   "outputs": [],
   "source": [
    "plot = sns.barplot(data=results, x='param_n_estimators', y='mean_test_roc_auc', hue='param_learning_rate', palette='Pastel2_r')\n",
    "plot.set(ylim=(0.6, 1))\n",
    "plot.set(title='ROC_AUC of XGBoost with K-Fold-Cross Validation\\n')"
   ]
  },
  {
   "cell_type": "code",
   "execution_count": null,
   "metadata": {},
   "outputs": [],
   "source": [
    "plot = sns.barplot(data=results, x='param_max_depth', y='mean_test_accuracy', hue='param_learning_rate', palette='Pastel2_r')\n",
    "plot.set(ylim=(0.6, 1))\n",
    "plot.set(title='Accuracy of an Artificial Neural Network with K-Fold-Cross Validation\\n')"
   ]
  },
  {
   "cell_type": "code",
   "execution_count": null,
   "metadata": {},
   "outputs": [],
   "source": [
    "plot = sns.barplot(data=results, x='param_n_estimators', y='mean_test_accuracy', hue='param_learning_rate', palette='Pastel2_r')\n",
    "plot.set(ylim=(0.6, 1))\n",
    "plot.set(title='Accuracy of an Artificial Neural Network with K-Fold-Cross Validation\\n')"
   ]
  }
 ],
 "metadata": {
  "kernelspec": {
   "display_name": "sklearn-env",
   "language": "python",
   "name": "python3"
  },
  "language_info": {
   "name": "python",
   "version": "3.10.6 | packaged by conda-forge | (main, Oct  7 2022, 20:14:50) [MSC v.1916 64 bit (AMD64)]"
  },
  "orig_nbformat": 4,
  "vscode": {
   "interpreter": {
    "hash": "34e7f5b862476ca5b132d6fa3a551e06a58745cd7626854c77bc546bf08a4906"
   }
  }
 },
 "nbformat": 4,
 "nbformat_minor": 2
}
