{
 "cells": [
  {
   "attachments": {},
   "cell_type": "markdown",
   "metadata": {},
   "source": [
    "# XGBOOST"
   ]
  },
  {
   "cell_type": "code",
   "execution_count": null,
   "metadata": {},
   "outputs": [],
   "source": [
    "import pandas as pd\n",
    "import seaborn as sns\n",
    "import numpy as np\n",
    "from sklearn.metrics import roc_auc_score\n",
    "from xgboost import XGBClassifier\n",
    "from sklearn.model_selection import KFold\n",
    "from sklearn.model_selection import GridSearchCV"
   ]
  },
  {
   "cell_type": "code",
   "execution_count": null,
   "metadata": {},
   "outputs": [],
   "source": [
    "data_train = pd.read_csv('training_processed.csv')\n",
    "data_valid = pd.read_csv('validation_processed.csv')\n",
    "\n",
    "labels_train = data_train['ACTIVE']# ground truth labels\n",
    "features_train = data_train.drop(['ACTIVE'], axis=1) \n",
    "labels_valid = data_valid['ACTIVE']# ground truth labels\n",
    "features_valid = data_valid.drop(['ACTIVE'], axis=1)"
   ]
  },
  {
   "cell_type": "code",
   "execution_count": null,
   "metadata": {},
   "outputs": [],
   "source": [
    "xgb = XGBClassifier()\n",
    "xgb_parameters = {'learning_rate': [0.001, 0.01, 0.1, 0.2, 0.3], 'max_depth': [3, 4, 5, 6, 7, 8, 9, 10], 'n_estimators': [100, 200, 300, 400, 500]}\n",
    "cross_val = KFold(n_splits=5)\n",
    "xgb_grid_search = GridSearchCV(estimator=xgb, param_grid=xgb_parameters, cv=cross_val, scoring=['roc_auc','accuracy'], refit='roc_auc')\n",
    "xgb_grid_result = xgb_grid_search.fit(features_train, labels_train)\n",
    "# summarize results\n",
    "print(\"Best: %f using %s\" % (xgb_grid_result.best_score_, xgb_grid_result.best_params_))\n",
    "print(\"Average AUC for XGBoost: \", np.mean(xgb_grid_result.cv_results_['mean_test_roc_auc']))\n",
    "print(\"Average Accuracy for XGBoost: \", np.mean(xgb_grid_result.cv_results_['mean_test_accuracy']))"
   ]
  }
 ],
 "metadata": {
  "kernelspec": {
   "display_name": "Python 3",
   "language": "python",
   "name": "python3"
  },
  "language_info": {
   "name": "python",
   "version": "3.10.5 (tags/v3.10.5:f377153, Jun  6 2022, 16:14:13) [MSC v.1929 64 bit (AMD64)]"
  },
  "orig_nbformat": 4,
  "vscode": {
   "interpreter": {
    "hash": "369f2c481f4da34e4445cda3fffd2e751bd1c4d706f27375911949ba6bb62e1c"
   }
  }
 },
 "nbformat": 4,
 "nbformat_minor": 2
}
